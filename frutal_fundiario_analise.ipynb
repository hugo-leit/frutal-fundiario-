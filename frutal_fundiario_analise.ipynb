{
 "cells": [
  {
   "cell_type": "markdown",
   "id": "d50393e8",
   "metadata": {},
   "source": [
    "# Análise Fundiária – Frutal-MG\n",
    "\n",
    "Este notebook realiza uma análise fundiária do município de Frutal-MG, utilizando dados públicos de imóveis rurais. A seguir, são aplicadas técnicas de limpeza, estatística e visualização para revelar padrões de concentração de terra."
   ]
  },
  {
   "cell_type": "code",
   "execution_count": null,
   "id": "ad71c642",
   "metadata": {},
   "outputs": [],
   "source": [
    "import pandas as pd\n",
    "import numpy as np\n",
    "import matplotlib.pyplot as plt\n",
    "import seaborn as sns\n",
    "\n",
    "%matplotlib inline"
   ]
  },
  {
   "cell_type": "markdown",
   "id": "9b56bedb",
   "metadata": {},
   "source": [
    "## Leitura do Dataset"
   ]
  },
  {
   "cell_type": "code",
   "execution_count": null,
   "id": "e600c7c5",
   "metadata": {},
   "outputs": [],
   "source": [
    "df = pd.read_csv(\"data/Imoveis_3127107.csv\", sep=\";\", encoding=\"latin1\")"
   ]
  },
  {
   "cell_type": "markdown",
   "id": "017970aa",
   "metadata": {},
   "source": [
    "## Renomear Colunas e Tratar Área"
   ]
  },
  {
   "cell_type": "code",
   "execution_count": null,
   "id": "f41eab00",
   "metadata": {},
   "outputs": [],
   "source": [
    "df.columns = [\n",
    "    'codigo_imovel', 'denominacao_imovel', 'codigo_municipio',\n",
    "    'municipio', 'uf', 'area_total', 'titular',\n",
    "    'natureza_juridica', 'condicao_pessoa', 'percentual_detencao', 'pais'\n",
    "]\n",
    "\n",
    "df['area_total'] = df['area_total'].astype(str).str.replace('.', '', regex=False).str.replace(',', '.', regex=False)\n",
    "df['area_total'] = pd.to_numeric(df['area_total'], errors='coerce')"
   ]
  },
  {
   "cell_type": "markdown",
   "id": "4b4d01b7",
   "metadata": {},
   "source": [
    "## Normalização de Natureza Jurídica"
   ]
  },
  {
   "cell_type": "code",
   "execution_count": null,
   "id": "370fccf5",
   "metadata": {},
   "outputs": [],
   "source": [
    "def limpar_texto(texto):\n",
    "    try:\n",
    "        return texto.encode('latin1').decode('utf-8').upper().strip()\n",
    "    except:\n",
    "        return str(texto).upper().strip()\n",
    "\n",
    "df['natureza_juridica_normalizada'] = df['natureza_juridica'].apply(limpar_texto)"
   ]
  },
  {
   "cell_type": "code",
   "execution_count": null,
   "id": "0f979775",
   "metadata": {},
   "outputs": [],
   "source": [
    "df_unicos = df.drop_duplicates(subset='codigo_imovel').copy()\n",
    "df_unicos['primeiro_nome'] = df_unicos['titular'].astype(str).str.strip().str.upper().str.split().str[0]"
   ]
  },
  {
   "cell_type": "markdown",
   "id": "9004af08",
   "metadata": {},
   "source": [
    "## Índice de Gini Fundiário"
   ]
  },
  {
   "cell_type": "code",
   "execution_count": null,
   "id": "8aad7e20",
   "metadata": {},
   "outputs": [],
   "source": [
    "def gini(array):\n",
    "    array = np.sort(array[~np.isnan(array)])\n",
    "    n = array.size\n",
    "    index = np.arange(1, n + 1)\n",
    "    return ((np.sum((2 * index - n - 1) * array)) / (n * np.sum(array))\n",
    "\n",
    "gini_index = gini(df_unicos['area_total'].values)\n",
    "print(f\"Gini Fundiário: {gini_index:.4f}\")"
   ]
  },
  {
   "cell_type": "markdown",
   "id": "7be60583",
   "metadata": {},
   "source": [
    "## Estatísticas por Natureza Jurídica"
   ]
  },
  {
   "cell_type": "code",
   "execution_count": null,
   "id": "1d4c7614",
   "metadata": {},
   "outputs": [],
   "source": [
    "df_unicos.groupby('natureza_juridica_normalizada')['area_total'].agg(['count', 'mean', 'median', 'std']).sort_values(by='mean', ascending=False)"
   ]
  },
  {
   "cell_type": "markdown",
   "id": "cb0d8744",
   "metadata": {},
   "source": [
    "## Visualizações – Histograma e Boxplot"
   ]
  },
  {
   "cell_type": "code",
   "execution_count": null,
   "id": "dacff6f3",
   "metadata": {},
   "outputs": [],
   "source": [
    "plt.figure(figsize=(10, 5))\n",
    "sns.histplot(df_unicos['area_total'], bins=50, kde=True, color='steelblue')\n",
    "plt.title('Distribuição do Tamanho das Propriedades Rurais')\n",
    "plt.xlabel('Área Total (ha)')\n",
    "plt.ylabel('Quantidade de Imóveis')\n",
    "plt.grid(True)\n",
    "plt.tight_layout()\n",
    "plt.show()\n",
    "\n",
    "plt.figure(figsize=(14, 6))\n",
    "sns.boxplot(data=df_unicos, x='natureza_juridica_normalizada', y='area_total')\n",
    "plt.xticks(rotation=90)\n",
    "plt.title('Boxplot de Área por Natureza Jurídica')\n",
    "plt.ylabel('Área (ha)')\n",
    "plt.xlabel('Natureza Jurídica')\n",
    "plt.tight_layout()\n",
    "plt.show()"
   ]
  }
 ],
 "metadata": {},
 "nbformat": 4,
 "nbformat_minor": 5
}
